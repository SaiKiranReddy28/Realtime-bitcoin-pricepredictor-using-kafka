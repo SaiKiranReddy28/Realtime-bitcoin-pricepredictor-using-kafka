{
 "cells": [
  {
   "cell_type": "code",
   "execution_count": null,
   "id": "1d8266d6",
   "metadata": {},
   "outputs": [],
   "source": [
    "#pip install kafka-python\n",
    "#Install Kafka-python API and also install Apache Kafka on local machine or virtual machine using official documentation\n",
    "# Link https://kafka-python.readthedocs.io/en/master/\n",
    "#Follow the documentation to get hands on experience"
   ]
  },
  {
   "cell_type": "code",
   "execution_count": null,
   "id": "2c7bde7a",
   "metadata": {},
   "outputs": [],
   "source": [
    "from kafka import KafkaConsumer,KafkaProducer\n",
    "import requests\n",
    "import json\n",
    "from requests import Request, Session\n",
    "from requests.exceptions import ConnectionError, Timeout, TooManyRedirects\n",
    "from json import dump,loads\n",
    "import logging\n",
    "import time"
   ]
  },
  {
   "cell_type": "code",
   "execution_count": null,
   "id": "4b3f9497",
   "metadata": {},
   "outputs": [],
   "source": [
    "url = 'https://pro-api.coinmarketcap.com/v1/cryptocurrency/quotes/latest'\n",
    "\n",
    "parameters={\n",
    "    \"symbol\":\"BTC\",  # Pass the symbol of crypto curreny which you want analyze\n",
    "    }\n",
    "\n",
    "headers = {\n",
    "  'Accepts': 'application/json',\n",
    "  'X-CMC_PRO_API_KEY': 'your-api-key',  # replace this with your api key obtained from coin market cap developer api\n",
    "}"
   ]
  },
  {
   "cell_type": "code",
   "execution_count": null,
   "id": "7c62499e",
   "metadata": {},
   "outputs": [],
   "source": [
    "#Create a session\n",
    "session = Session()\n",
    "session.headers.update(headers)"
   ]
  },
  {
   "cell_type": "code",
   "execution_count": null,
   "id": "9f49660a",
   "metadata": {},
   "outputs": [],
   "source": [
    "def publish_message(producer_instance,topic_name,key,value):\n",
    "    \n",
    "    topic_name=\"your-topic-name\"  # pass your topic name here \n",
    "    \n",
    "    try:\n",
    "        # I passes 333 because you can call 333 free REST API requests to coin market cap api on a day\n",
    "        for _ in range(333):   \n",
    "            #Call the json request by passing url and parameters \n",
    "            response = session.get(url, params=parameters)\n",
    "            \n",
    "            #read the response recieved from the api-call\n",
    "            data=response.json()\n",
    "        \n",
    "            #key is the timestamp recieved\n",
    "            key=data[\"status\"][\"timestamp\"]\n",
    "            \n",
    "            #value is the price of BTC recieved\n",
    "            value=data[\"data\"][\"BTC\"][\"quote\"][\"USD\"][\"price\"]\n",
    "            \n",
    "            #Create a json file by specifying crypto and price . This will be useful if you are analyzing \n",
    "            #more than one crypto currency at a time\n",
    "            \n",
    "            value1=json.dumps({\"DateTime\":key,\"Price\":value})\n",
    "            \n",
    "            #Kafka stores data in byte form. So it is irrespective of data you pass\n",
    "            #You need to serialize when passing the data. There are many forms like Apache Avro, gzip etc.\n",
    "            #key_bytes=bytes(str(key),encoding=\"utf-8\")\n",
    "            key_bytes=key.encode(encoding=\"utf-8\")\n",
    "            \n",
    "            value_bytes=bytes(value1,encoding=\"utf-8\")\n",
    "            \n",
    "            print(\"RESPONSE_CODE=\",response.status_code) #should return 200\n",
    "            print(\"CONTENT_TYPE_RECIEVED=\",response.headers[\"Content-Type\"]) #application.json\n",
    "            \n",
    "            #Now send the data into kafka using the Producer\n",
    "            producer_instance.send(topic_name,key=key_bytes,value=value_bytes)\n",
    "            #producer.subscribe can also be used.\n",
    "            \n",
    "            #As only 333 request can be send, we need the thread to be waiting.\n",
    "            time.sleep(20) #wait for \"x\" sec till next call\n",
    "        \n",
    "        #We need to clean the producer after the work is done\n",
    "        producer_instance.flush()\n",
    "        \n",
    "    except Exception as e:\n",
    "        print(\"Error writing data into Kafka\")\n",
    "        print(str(e))"
   ]
  },
  {
   "cell_type": "code",
   "execution_count": null,
   "id": "4e58e688",
   "metadata": {},
   "outputs": [],
   "source": [
    "def connect_kafka_producer():\n",
    "    kafka_producer=None  #Intially not connected to any broker\n",
    "    try:\n",
    "        #I'm using local host because I'm running on my local machine.\n",
    "        #For cases like aws EC2 instance you need to pass the i.p address\n",
    "        kafka_producer=KafkaProducer(bootstrap_servers=[\"localhost:9092\"])   \n",
    "        \n",
    "    except Exception as e:\n",
    "        print(\"Error while connecting Producer\")\n",
    "        print(str(e))\n",
    "        \n",
    "    finally:\n",
    "        return kafka_producer"
   ]
  },
  {
   "cell_type": "code",
   "execution_count": null,
   "id": "d4f7a293",
   "metadata": {},
   "outputs": [],
   "source": [
    "if __name__==\"__main__\":\n",
    "    #Create a producer instance\n",
    "    producer_instance=connect_kafka_producer()\n",
    "    \n",
    "    publish_message(producer_instance,None,None,None)"
   ]
  }
 ],
 "metadata": {
  "kernelspec": {
   "display_name": "Python 3 (ipykernel)",
   "language": "python",
   "name": "python3"
  },
  "language_info": {
   "codemirror_mode": {
    "name": "ipython",
    "version": 3
   },
   "file_extension": ".py",
   "mimetype": "text/x-python",
   "name": "python",
   "nbconvert_exporter": "python",
   "pygments_lexer": "ipython3",
   "version": "3.11.2"
  }
 },
 "nbformat": 4,
 "nbformat_minor": 5
}
