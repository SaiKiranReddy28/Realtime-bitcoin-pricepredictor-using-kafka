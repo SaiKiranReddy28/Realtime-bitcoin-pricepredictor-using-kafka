{
 "cells": [
  {
   "cell_type": "code",
   "execution_count": null,
   "id": "95b0f869",
   "metadata": {},
   "outputs": [],
   "source": [
    "from kafka import KafkaConsumer\n",
    "from json import dump,loads\n",
    "from s3fs import S3FileSystem\n",
    "import json\n",
    "import boto3"
   ]
  },
  {
   "cell_type": "code",
   "execution_count": null,
   "id": "5a438f0e",
   "metadata": {},
   "outputs": [],
   "source": [
    "topic_name=\"your-topic_name\" # pass your topic from which your\n",
    "consumer=KafkaConsumer(\n",
    "        topic_name,\n",
    "    \n",
    "        #pass the consumer_group_id #Note: You should not open same consumer_group at different locations at a time\n",
    "        group_id=\"your-group_id\",\n",
    "        \n",
    "        #pass the bootstrap_server address\n",
    "        bootstrap_servers=[\"localhost:9092\"],\n",
    "    \n",
    "        #latest: read from the last seen offset address #earliest: read from the beginning\n",
    "        auto_offset_reset=\"latest\", \n",
    "    \n",
    "        #you need to de-serialize when reading from the kafka\n",
    "        value_deserializer=lambda x:loads(x.decode(\"utf-8\"))\n",
    "        \n",
    "        )"
   ]
  },
  {
   "cell_type": "markdown",
   "id": "6f1e84d4",
   "metadata": {},
   "source": [
    "I am storing the streaming data into AWS S3 bucket so it can be used for future uses like analyzing using AWS Crawler, etc."
   ]
  },
  {
   "cell_type": "code",
   "execution_count": null,
   "id": "ff69a9dc",
   "metadata": {},
   "outputs": [],
   "source": [
    "#As the AWS S3 bucket names are globally unique there is no need to pass aws_access_key_id, aws_secret_access_key\n",
    "s3 = boto3.resource(\n",
    "    's3',\n",
    "    #region_name='us-east-1',\n",
    "    #aws_access_key_id=KEY_ID,\n",
    "    #aws_secret_access_key=ACCESS_KEY\n",
    ")\n",
    "\n",
    "#It's time to write data into S3 Bucket\n",
    "#NOTE: This loop runs untill interrupted externally\n",
    "for msg in consumer:\n",
    "    \n",
    "    print(msg.key,msg.value)\n",
    "    \n",
    "    content=msg.value\n",
    "    \n",
    "    #I'm using the time stamp value as my json file name and then writing into bucket\n",
    "    s3.Object('your-bucket-name', \"{}.json\".format(msg.key.decode('utf8', 'strict'))).put(Body=json.dumps(content))\n"
   ]
  }
 ],
 "metadata": {
  "kernelspec": {
   "display_name": "Python 3 (ipykernel)",
   "language": "python",
   "name": "python3"
  },
  "language_info": {
   "codemirror_mode": {
    "name": "ipython",
    "version": 3
   },
   "file_extension": ".py",
   "mimetype": "text/x-python",
   "name": "python",
   "nbconvert_exporter": "python",
   "pygments_lexer": "ipython3",
   "version": "3.11.2"
  }
 },
 "nbformat": 4,
 "nbformat_minor": 5
}
